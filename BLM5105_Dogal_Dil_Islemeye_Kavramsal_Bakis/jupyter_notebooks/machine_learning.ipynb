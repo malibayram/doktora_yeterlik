{
 "cells": [
  {
   "cell_type": "code",
   "execution_count": 7,
   "metadata": {},
   "outputs": [
    {
     "name": "stdout",
     "output_type": "stream",
     "text": [
      "entropy_piknik:  0.8113\n"
     ]
    }
   ],
   "source": [
    "# information gain and entropy\n",
    "\"\"\" \n",
    "Entropy(S) = - p log p – q log q kullanılır.\n",
    "S kümesinde 14 örnek olsun: 9 pozitif ve 5 negatif\n",
    "Entropy(S) = - (9/14) log (9/14) – (5/14) log (5/14) = 0.94\n",
    "\"\"\"\n",
    "\n",
    "\"\"\" \n",
    "Olay No Hava Nem Rüzgar Su sıcaklığı Pikniğe gidildi mi?\n",
    "1 güneşli normal güçlü ılık Evet\n",
    "2 güneşli yüksek güçlü ılık Evet\n",
    "3 yağmurlu yüksek güçlü ılık Hayır\n",
    "4 güneşli yüksek güçlü soğuk Evet\n",
    "\"\"\"\n",
    "\n",
    "# Gain(Piknik, Hava) = Entropy(Piknik) – [(|Güneşli| / |Piknik|) * Entropy(Güneşli) + (|Yağmurlu| / |Piknik|) * Entropy(Yağmurlu)]\n",
    "# Gain(Piknik, Hava) = 0.94 – [(4/4) * 0 + (0/4) * 0] = 0.94\n",
    "\n",
    "import math\n",
    "\n",
    "entropy_piknik = round(-1 * (3/4 * math.log(3/4, 2) + 1/4 * math.log(1/4, 2)), 4)\n",
    "print(\"entropy_piknik: \", entropy_piknik)\n"
   ]
  },
  {
   "cell_type": "code",
   "execution_count": 18,
   "metadata": {},
   "outputs": [
    {
     "name": "stdout",
     "output_type": "stream",
     "text": [
      "gain_piknik_hava:  0.8113\n",
      "gain_piknik_nem:  0.1226\n",
      "gain_piknik_ruzgar:  0.1226\n",
      "gain_piknik_su_sicakligi:  0.1226\n"
     ]
    }
   ],
   "source": [
    "gain_piknik_hava = round(entropy_piknik - (3/4) * ((-(3/3) * math.log(3 / 3, 2) - 0) - (1/4) * (0-(1/1)*math.log(1 / 1, 2))), 4)\n",
    "print(\"gain_piknik_hava: \", gain_piknik_hava)\n",
    "\n",
    "gain_piknik_nem = round(entropy_piknik - (3/4) * ((-(2/3) * math.log(2 / 3, 2) - (1/3) * math.log(1 / 3, 2)) - (1/4) * (0-(1/1)*math.log(1 / 1, 2))), 4)\n",
    "print(\"gain_piknik_nem: \", gain_piknik_nem)\n",
    "\n",
    "gain_piknik_ruzgar = round(entropy_piknik - (3/4) * ((-(2/3) * math.log(2 / 3, 2) - (1/3) * math.log(1 / 3, 2)) - (1/4) * (0-(1/1)*math.log(1 / 1, 2))), 4)\n",
    "print(\"gain_piknik_ruzgar: \", gain_piknik_ruzgar)\n",
    "\n",
    "gain_piknik_su_sicakligi = round(entropy_piknik - (3/4) * ((-(2/3) * math.log(2 / 3, 2) - (1/3) * math.log(1 / 3, 2)) - (1/4) * (0-(1/1)*math.log(1 / 1, 2))), 4)\n",
    "print(\"gain_piknik_su_sicakligi: \", gain_piknik_su_sicakligi)"
   ]
  }
 ],
 "metadata": {
  "kernelspec": {
   "display_name": "Python 3",
   "language": "python",
   "name": "python3"
  },
  "language_info": {
   "codemirror_mode": {
    "name": "ipython",
    "version": 3
   },
   "file_extension": ".py",
   "mimetype": "text/x-python",
   "name": "python",
   "nbconvert_exporter": "python",
   "pygments_lexer": "ipython3",
   "version": "3.9.6"
  }
 },
 "nbformat": 4,
 "nbformat_minor": 2
}
