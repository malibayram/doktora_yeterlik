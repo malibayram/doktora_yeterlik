{
 "cells": [
  {
   "cell_type": "code",
   "execution_count": 3,
   "metadata": {},
   "outputs": [
    {
     "name": "stdout",
     "output_type": "stream",
     "text": [
      "random numbers:  [7, 3, 21, 14, 42, 53, 45, 4]\n"
     ]
    }
   ],
   "source": [
    "import numpy as np\n",
    "# normalization formula is: v' = (v - min) / (max - min)\n",
    "\n",
    "# random 6 numbers between 3 and 55\n",
    "random_numbers = [ 7, 3, 21, 14, 42, 53, 45,  4]\n",
    "print(\"random numbers: \", random_numbers)"
   ]
  },
  {
   "cell_type": "code",
   "execution_count": 20,
   "metadata": {},
   "outputs": [
    {
     "name": "stdout",
     "output_type": "stream",
     "text": [
      "number:  7 \tmapped_number:  8\n",
      "number:  3 \tmapped_number:  0\n",
      "number:  21 \tmapped_number:  36\n",
      "number:  14 \tmapped_number:  22\n",
      "number:  42 \tmapped_number:  78\n",
      "number:  53 \tmapped_number:  100\n",
      "number:  45 \tmapped_number:  84\n",
      "number:  4 \tmapped_number:  2\n",
      "\n",
      "map numbers to range 20-50\n",
      "number:  7 \tmapped_number:  22\n",
      "number:  3 \tmapped_number:  20\n",
      "number:  21 \tmapped_number:  31\n",
      "number:  14 \tmapped_number:  27\n",
      "number:  42 \tmapped_number:  43\n",
      "number:  53 \tmapped_number:  50\n",
      "number:  45 \tmapped_number:  45\n",
      "number:  4 \tmapped_number:  21\n"
     ]
    }
   ],
   "source": [
    "# normalize to range 0-100\n",
    "\n",
    "# find min and max\n",
    "min = 3\n",
    "max = 53\n",
    "\n",
    "# map numbers to range 0-100\n",
    "# min mapped number should be 0\n",
    "# max mapped number should be 100\n",
    "# formula: mapped_number = (number - min) / (max - min) * 100\n",
    "\n",
    "for number in random_numbers:\n",
    "    mapped_number = round((number - min) / (max - min) * 100)\n",
    "    print(\"number: \", number, \"\\tmapped_number: \", mapped_number)\n",
    "\n",
    "# map numbers to range 20-50\n",
    "print(\"\\nmap numbers to range 20-50\")\n",
    "\n",
    "for number in random_numbers:\n",
    "    mapped_number = round(((number - min) / (max - min)) * 30 + 20)\n",
    "    print(\"number: \", number, \"\\tmapped_number: \", mapped_number)\n"
   ]
  },
  {
   "cell_type": "code",
   "execution_count": 23,
   "metadata": {},
   "outputs": [
    {
     "name": "stdout",
     "output_type": "stream",
     "text": [
      "\n",
      "map numbers to range (-1)-(1)\n",
      "number:  7 \tmapped_number:  -0.84\n",
      "number:  3 \tmapped_number:  -1.0\n",
      "number:  21 \tmapped_number:  -0.28\n",
      "number:  14 \tmapped_number:  -0.56\n",
      "number:  42 \tmapped_number:  0.56\n",
      "number:  53 \tmapped_number:  1.0\n",
      "number:  45 \tmapped_number:  0.6799999999999999\n",
      "number:  4 \tmapped_number:  -0.96\n",
      "\n",
      "decimal scaling normalization k =  2\n",
      "number:  7 \tmapped_number:  0.07\n",
      "number:  3 \tmapped_number:  0.03\n",
      "number:  21 \tmapped_number:  0.21\n",
      "number:  14 \tmapped_number:  0.14\n",
      "number:  42 \tmapped_number:  0.42\n",
      "number:  53 \tmapped_number:  0.53\n",
      "number:  45 \tmapped_number:  0.45\n",
      "number:  4 \tmapped_number:  0.04\n"
     ]
    }
   ],
   "source": [
    "# map numbers to range (-1)-(1)\n",
    "print(\"\\nmap numbers to range (-1)-(1)\")\n",
    "\n",
    "for number in random_numbers:\n",
    "    mapped_number = ((number - min) / (max - min)) * 2 - 1\n",
    "    print(\"number: \", number, \"\\tmapped_number: \", mapped_number)\n",
    "\n",
    "# decimal scaling normalization\n",
    "# formula: v' = v / 10^k\n",
    "k = 2\n",
    "print(\"\\ndecimal scaling normalization k = \", k)\n",
    "\n",
    "for number in random_numbers:\n",
    "    mapped_number = number / 10**k\n",
    "    print(\"number: \", number, \"\\tmapped_number: \", mapped_number)"
   ]
  },
  {
   "cell_type": "code",
   "execution_count": 31,
   "metadata": {},
   "outputs": [
    {
     "name": "stdout",
     "output_type": "stream",
     "text": [
      "\n",
      "standardization\n",
      "mean:  23.625\n",
      "var:  406.2678571428571\n",
      "std:  20.156087347073516\n",
      "number:  7 \tstd_number:  -0.8248128574623289\n",
      "number:  3 \tstd_number:  -1.0232640712878518\n",
      "number:  21 \tstd_number:  -0.1302336090729993\n",
      "number:  14 \tstd_number:  -0.4775232332676641\n",
      "number:  42 \tstd_number:  0.9116352635109951\n",
      "number:  53 \tstd_number:  1.4573761015311828\n",
      "number:  45 \tstd_number:  1.0604736738801372\n",
      "number:  4 \tstd_number:  -0.973651267831471\n"
     ]
    }
   ],
   "source": [
    "# standardization\n",
    "# formula: v' = (v - mean) / std\n",
    "print(\"\\nstandardization\")\n",
    "# calculate standard deviation\n",
    "sum = 0\n",
    "for number in random_numbers:\n",
    "    sum += number\n",
    "mean = sum / len(random_numbers)\n",
    "print(\"mean: \", mean)\n",
    "\n",
    "# standard deviation formula: std = sqrt(1/N * sum((x - mean)^2))\n",
    "sum = 0\n",
    "for number in random_numbers:\n",
    "    sum += (number - mean)**2\n",
    "    \n",
    "var = 1/(len(random_numbers) - 1) * sum\n",
    "print(\"var: \", var)\n",
    "\n",
    "std = var ** 0.5\n",
    "print(\"std: \", std)\n",
    "\n",
    "for number in random_numbers:\n",
    "    std_number = (number - mean) / std\n",
    "    print(\"number: \", number, \"\\tstd_number: \", std_number)\n"
   ]
  }
 ],
 "metadata": {
  "kernelspec": {
   "display_name": "Python 3",
   "language": "python",
   "name": "python3"
  },
  "language_info": {
   "codemirror_mode": {
    "name": "ipython",
    "version": 3
   },
   "file_extension": ".py",
   "mimetype": "text/x-python",
   "name": "python",
   "nbconvert_exporter": "python",
   "pygments_lexer": "ipython3",
   "version": "3.9.6"
  }
 },
 "nbformat": 4,
 "nbformat_minor": 2
}
