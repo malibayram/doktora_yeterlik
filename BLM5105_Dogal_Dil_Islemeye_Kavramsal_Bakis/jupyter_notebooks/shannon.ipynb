{
 "cells": [
  {
   "cell_type": "code",
   "execution_count": 140,
   "metadata": {},
   "outputs": [
    {
     "name": "stdout",
     "output_type": "stream",
     "text": [
      "E@B4J#1EJ!HF1ID3!3EI!13#EE13$EIEBACC25A3F2I$!GJE1!3#!AHC2!@@F!DHB1J55@!@@BFE#EA5IFF2H#4411!$A$IIDA2EA1HG5C!$42$4EF!EJ24DG$A!D15!HA4DEGIG1D4DF5ID4HFD!H#44E2523EDFJDC3E@2I!FE@F3DJAF4B##J$H513B1EF@#@#C1@$B145@I#D$B!AAGH#F45@4#HE3252EH4H1@GAH11CCD!$GCG5BBH3C#$2!JAEI3JDAG22J!1FDB@3#D@!BB4DJ2BADA4C3@@CE1A5I15C#3HGG!EEGA!HG#G4!FB#IFEB!35@1A@D1C@!4AF$H@4#5I$E$CC3H@D5GJ2IA@BAJ413!D!BE2@#5BF4JH2AJ5JI2F3GA2JE!1!JCGFDEIE3IA3F225IEG45J4EGDG1#A2B@A15C31GBHB1FD3$3FHH4!EIGC1A3@II2GJEIH@$!3JF@2F35H!1E@BDDDI$!@GG\n"
     ]
    }
   ],
   "source": [
    "import random\n",
    "\n",
    "chars = ['A', 'B', 'C', 'D', 'E', 'F', 'G', 'H', 'I', 'J', '1', '2', '3', '4', '5', '!', '@', '#', '$']\n",
    "\n",
    "random_text = ''\n",
    "\n",
    "for i in range(500):\n",
    "    random_text += random.choice(chars)\n",
    "\n",
    "print(random_text)"
   ]
  },
  {
   "cell_type": "code",
   "execution_count": 141,
   "metadata": {},
   "outputs": [
    {
     "data": {
      "text/plain": [
       "[('E', 0.072),\n",
       " ('!', 0.068),\n",
       " ('@', 0.062),\n",
       " ('1', 0.062),\n",
       " ('D', 0.058),\n",
       " ('A', 0.058),\n",
       " ('3', 0.056),\n",
       " ('F', 0.054),\n",
       " ('4', 0.052),\n",
       " ('2', 0.052),\n",
       " ('G', 0.052),\n",
       " ('H', 0.05),\n",
       " ('I', 0.05),\n",
       " ('5', 0.048),\n",
       " ('B', 0.046),\n",
       " ('J', 0.044),\n",
       " ('#', 0.042),\n",
       " ('C', 0.038),\n",
       " ('$', 0.036)]"
      ]
     },
     "execution_count": 141,
     "metadata": {},
     "output_type": "execute_result"
    }
   ],
   "source": [
    "# calculate probability of each letter\n",
    "\n",
    "# Create a dictionary to store the frequency of each letter\n",
    "letter_frequency = {}\n",
    "# Loop through the random text\n",
    "for letter in random_text:\n",
    "    # Check if the letter is in the dictionary\n",
    "    if letter in letter_frequency:\n",
    "        # If it is, increase the count by 1\n",
    "        letter_frequency[letter] += 1\n",
    "    else:\n",
    "        # If it is not, set the count to 1\n",
    "        letter_frequency[letter] = 1\n",
    "\n",
    "# Calculate the probability of each letter\n",
    "letter_probability = {}\n",
    "# Loop through the dictionary\n",
    "for letter in letter_frequency:\n",
    "    # Calculate the probability\n",
    "    probability = letter_frequency[letter] / len(random_text)\n",
    "    # Add the probability to the dictionary\n",
    "    letter_probability[letter] = round(probability, 4)\n",
    "\n",
    "sorted_letter_probability = sorted(letter_probability.items(), key=lambda x: x[1], reverse=True)\n",
    "sorted_letter_probability"
   ]
  },
  {
   "cell_type": "code",
   "execution_count": 142,
   "metadata": {},
   "outputs": [
    {
     "name": "stdout",
     "output_type": "stream",
     "text": [
      "entropy:  -4.225733139118144\n"
     ]
    }
   ],
   "source": [
    "# Calculate the entropy of the text\n",
    "import math\n",
    "\n",
    "entropy = 0\n",
    "for letter in letter_probability:\n",
    "    entropy += letter_probability[letter] * math.log(letter_probability[letter], 2)\n",
    "\n",
    "print(\"entropy: \", entropy)"
   ]
  },
  {
   "cell_type": "code",
   "execution_count": 143,
   "metadata": {},
   "outputs": [
    {
     "name": "stdout",
     "output_type": "stream",
     "text": [
      "Bigram length: 361 frequencies:  {'AA': 0, 'AB': 0, 'AC': 0, 'AD': 0, 'AE': 0, 'AF': 0, 'AG': 0, 'AH': 0, 'AI': 0, 'AJ': 0, 'A1': 0, 'A2': 0, 'A3': 0, 'A4': 0, 'A5': 0, 'A!': 0, 'A@': 0, 'A#': 0, 'A$': 0, 'BA': 0, 'BB': 0, 'BC': 0, 'BD': 0, 'BE': 0, 'BF': 0, 'BG': 0, 'BH': 0, 'BI': 0, 'BJ': 0, 'B1': 0, 'B2': 0, 'B3': 0, 'B4': 0, 'B5': 0, 'B!': 0, 'B@': 0, 'B#': 0, 'B$': 0, 'CA': 0, 'CB': 0, 'CC': 0, 'CD': 0, 'CE': 0, 'CF': 0, 'CG': 0, 'CH': 0, 'CI': 0, 'CJ': 0, 'C1': 0, 'C2': 0, 'C3': 0, 'C4': 0, 'C5': 0, 'C!': 0, 'C@': 0, 'C#': 0, 'C$': 0, 'DA': 0, 'DB': 0, 'DC': 0, 'DD': 0, 'DE': 0, 'DF': 0, 'DG': 0, 'DH': 0, 'DI': 0, 'DJ': 0, 'D1': 0, 'D2': 0, 'D3': 0, 'D4': 0, 'D5': 0, 'D!': 0, 'D@': 0, 'D#': 0, 'D$': 0, 'EA': 0, 'EB': 0, 'EC': 0, 'ED': 0, 'EE': 0, 'EF': 0, 'EG': 0, 'EH': 0, 'EI': 0, 'EJ': 0, 'E1': 0, 'E2': 0, 'E3': 0, 'E4': 0, 'E5': 0, 'E!': 0, 'E@': 0, 'E#': 0, 'E$': 0, 'FA': 0, 'FB': 0, 'FC': 0, 'FD': 0, 'FE': 0, 'FF': 0, 'FG': 0, 'FH': 0, 'FI': 0, 'FJ': 0, 'F1': 0, 'F2': 0, 'F3': 0, 'F4': 0, 'F5': 0, 'F!': 0, 'F@': 0, 'F#': 0, 'F$': 0, 'GA': 0, 'GB': 0, 'GC': 0, 'GD': 0, 'GE': 0, 'GF': 0, 'GG': 0, 'GH': 0, 'GI': 0, 'GJ': 0, 'G1': 0, 'G2': 0, 'G3': 0, 'G4': 0, 'G5': 0, 'G!': 0, 'G@': 0, 'G#': 0, 'G$': 0, 'HA': 0, 'HB': 0, 'HC': 0, 'HD': 0, 'HE': 0, 'HF': 0, 'HG': 0, 'HH': 0, 'HI': 0, 'HJ': 0, 'H1': 0, 'H2': 0, 'H3': 0, 'H4': 0, 'H5': 0, 'H!': 0, 'H@': 0, 'H#': 0, 'H$': 0, 'IA': 0, 'IB': 0, 'IC': 0, 'ID': 0, 'IE': 0, 'IF': 0, 'IG': 0, 'IH': 0, 'II': 0, 'IJ': 0, 'I1': 0, 'I2': 0, 'I3': 0, 'I4': 0, 'I5': 0, 'I!': 0, 'I@': 0, 'I#': 0, 'I$': 0, 'JA': 0, 'JB': 0, 'JC': 0, 'JD': 0, 'JE': 0, 'JF': 0, 'JG': 0, 'JH': 0, 'JI': 0, 'JJ': 0, 'J1': 0, 'J2': 0, 'J3': 0, 'J4': 0, 'J5': 0, 'J!': 0, 'J@': 0, 'J#': 0, 'J$': 0, '1A': 0, '1B': 0, '1C': 0, '1D': 0, '1E': 0, '1F': 0, '1G': 0, '1H': 0, '1I': 0, '1J': 0, '11': 0, '12': 0, '13': 0, '14': 0, '15': 0, '1!': 0, '1@': 0, '1#': 0, '1$': 0, '2A': 0, '2B': 0, '2C': 0, '2D': 0, '2E': 0, '2F': 0, '2G': 0, '2H': 0, '2I': 0, '2J': 0, '21': 0, '22': 0, '23': 0, '24': 0, '25': 0, '2!': 0, '2@': 0, '2#': 0, '2$': 0, '3A': 0, '3B': 0, '3C': 0, '3D': 0, '3E': 0, '3F': 0, '3G': 0, '3H': 0, '3I': 0, '3J': 0, '31': 0, '32': 0, '33': 0, '34': 0, '35': 0, '3!': 0, '3@': 0, '3#': 0, '3$': 0, '4A': 0, '4B': 0, '4C': 0, '4D': 0, '4E': 0, '4F': 0, '4G': 0, '4H': 0, '4I': 0, '4J': 0, '41': 0, '42': 0, '43': 0, '44': 0, '45': 0, '4!': 0, '4@': 0, '4#': 0, '4$': 0, '5A': 0, '5B': 0, '5C': 0, '5D': 0, '5E': 0, '5F': 0, '5G': 0, '5H': 0, '5I': 0, '5J': 0, '51': 0, '52': 0, '53': 0, '54': 0, '55': 0, '5!': 0, '5@': 0, '5#': 0, '5$': 0, '!A': 0, '!B': 0, '!C': 0, '!D': 0, '!E': 0, '!F': 0, '!G': 0, '!H': 0, '!I': 0, '!J': 0, '!1': 0, '!2': 0, '!3': 0, '!4': 0, '!5': 0, '!!': 0, '!@': 0, '!#': 0, '!$': 0, '@A': 0, '@B': 0, '@C': 0, '@D': 0, '@E': 0, '@F': 0, '@G': 0, '@H': 0, '@I': 0, '@J': 0, '@1': 0, '@2': 0, '@3': 0, '@4': 0, '@5': 0, '@!': 0, '@@': 0, '@#': 0, '@$': 0, '#A': 0, '#B': 0, '#C': 0, '#D': 0, '#E': 0, '#F': 0, '#G': 0, '#H': 0, '#I': 0, '#J': 0, '#1': 0, '#2': 0, '#3': 0, '#4': 0, '#5': 0, '#!': 0, '#@': 0, '##': 0, '#$': 0, '$A': 0, '$B': 0, '$C': 0, '$D': 0, '$E': 0, '$F': 0, '$G': 0, '$H': 0, '$I': 0, '$J': 0, '$1': 0, '$2': 0, '$3': 0, '$4': 0, '$5': 0, '$!': 0, '$@': 0, '$#': 0, '$$': 0}\n",
      "Bigram frequencies:  {'AA': 1, 'AB': 0, 'AC': 1, 'AD': 1, 'AE': 1, 'AF': 2, 'AG': 2, 'AH': 2, 'AI': 0, 'AJ': 2, 'A1': 2, 'A2': 3, 'A3': 3, 'A4': 2, 'A5': 2, 'A!': 2, 'A@': 2, 'A#': 0, 'A$': 1, 'BA': 3, 'BB': 2, 'BC': 0, 'BD': 1, 'BE': 1, 'BF': 2, 'BG': 0, 'BH': 2, 'BI': 0, 'BJ': 0, 'B1': 4, 'B2': 0, 'B3': 0, 'B4': 2, 'B5': 0, 'B!': 2, 'B@': 2, 'B#': 2, 'B$': 0, 'CA': 0, 'CB': 0, 'CC': 3, 'CD': 1, 'CE': 1, 'CF': 0, 'CG': 2, 'CH': 0, 'CI': 0, 'CJ': 0, 'C1': 2, 'C2': 2, 'C3': 4, 'C4': 0, 'C5': 0, 'C!': 1, 'C@': 1, 'C#': 2, 'C$': 0, 'DA': 3, 'DB': 1, 'DC': 1, 'DD': 2, 'DE': 2, 'DF': 2, 'DG': 2, 'DH': 1, 'DI': 1, 'DJ': 2, 'D1': 2, 'D2': 0, 'D3': 2, 'D4': 2, 'D5': 1, 'D!': 3, 'D@': 1, 'D#': 0, 'D$': 1, 'EA': 2, 'EB': 2, 'EC': 0, 'ED': 1, 'EE': 2, 'EF': 2, 'EG': 4, 'EH': 1, 'EI': 6, 'EJ': 2, 'E1': 3, 'E2': 2, 'E3': 2, 'E4': 0, 'E5': 0, 'E!': 1, 'E@': 4, 'E#': 1, 'E$': 1, 'FA': 0, 'FB': 1, 'FC': 0, 'FD': 4, 'FE': 3, 'FF': 1, 'FG': 0, 'FH': 1, 'FI': 0, 'FJ': 1, 'F1': 1, 'F2': 3, 'F3': 3, 'F4': 3, 'F5': 1, 'F!': 2, 'F@': 2, 'F#': 0, 'F$': 1, 'GA': 3, 'GB': 1, 'GC': 2, 'GD': 1, 'GE': 0, 'GF': 1, 'GG': 2, 'GH': 1, 'GI': 1, 'GJ': 3, 'G1': 2, 'G2': 1, 'G3': 0, 'G4': 2, 'G5': 2, 'G!': 1, 'G@': 0, 'G#': 1, 'G$': 1, 'HA': 1, 'HB': 2, 'HC': 1, 'HD': 0, 'HE': 1, 'HF': 2, 'HG': 3, 'HH': 1, 'HI': 0, 'HJ': 0, 'H1': 2, 'H2': 1, 'H3': 1, 'H4': 2, 'H5': 1, 'H!': 1, 'H@': 3, 'H#': 3, 'H$': 0, 'IA': 2, 'IB': 0, 'IC': 0, 'ID': 3, 'IE': 3, 'IF': 2, 'IG': 2, 'IH': 1, 'II': 2, 'IJ': 0, 'I1': 1, 'I2': 2, 'I3': 1, 'I4': 0, 'I5': 0, 'I!': 2, 'I@': 0, 'I#': 1, 'I$': 3, 'JA': 2, 'JB': 0, 'JC': 1, 'JD': 2, 'JE': 3, 'JF': 1, 'JG': 0, 'JH': 1, 'JI': 1, 'JJ': 0, 'J1': 0, 'J2': 3, 'J3': 0, 'J4': 2, 'J5': 2, 'J!': 2, 'J@': 0, 'J#': 1, 'J$': 1, '1A': 3, '1B': 0, '1C': 2, '1D': 1, '1E': 3, '1F': 2, '1G': 1, '1H': 1, '1I': 1, '1J': 1, '11': 2, '12': 0, '13': 4, '14': 1, '15': 3, '1!': 3, '1@': 2, '1#': 1, '1$': 0, '2A': 1, '2B': 2, '2C': 0, '2D': 0, '2E': 2, '2F': 2, '2G': 1, '2H': 1, '2I': 3, '2J': 2, '21': 0, '22': 2, '23': 1, '24': 1, '25': 4, '2!': 2, '2@': 1, '2#': 0, '2$': 1, '3A': 0, '3B': 1, '3C': 1, '3D': 1, '3E': 3, '3F': 3, '3G': 1, '3H': 2, '3I': 1, '3J': 2, '31': 1, '32': 1, '33': 0, '34': 0, '35': 2, '3!': 2, '3@': 2, '3#': 3, '3$': 2, '4A': 1, '4B': 1, '4C': 1, '4D': 4, '4E': 3, '4F': 0, '4G': 0, '4H': 2, '4I': 0, '4J': 2, '41': 2, '42': 1, '43': 0, '44': 2, '45': 3, '4!': 2, '4@': 0, '4#': 2, '4$': 0, '5A': 1, '5B': 2, '5C': 3, '5D': 0, '5E': 0, '5F': 0, '5G': 1, '5H': 1, '5I': 5, '5J': 2, '51': 1, '52': 2, '53': 0, '54': 0, '55': 1, '5!': 1, '5@': 4, '5#': 0, '5$': 0, '!A': 2, '!B': 2, '!C': 0, '!D': 3, '!E': 3, '!F': 2, '!G': 1, '!H': 4, '!I': 0, '!J': 2, '!1': 4, '!2': 0, '!3': 4, '!4': 1, '!5': 0, '!!': 0, '!@': 3, '!#': 0, '!$': 3, '@A': 1, '@B': 4, '@C': 1, '@D': 2, '@E': 0, '@F': 2, '@G': 2, '@H': 0, '@I': 2, '@J': 0, '@1': 1, '@2': 2, '@3': 1, '@4': 2, '@5': 0, '@!': 3, '@@': 3, '@#': 3, '@$': 2, '#A': 1, '#B': 0, '#C': 1, '#D': 2, '#E': 2, '#F': 1, '#G': 1, '#H': 1, '#I': 1, '#J': 1, '#1': 1, '#2': 0, '#3': 1, '#4': 2, '#5': 2, '#!': 1, '#@': 1, '##': 1, '#$': 1, '$A': 2, '$B': 2, '$C': 1, '$D': 0, '$E': 2, '$F': 0, '$G': 1, '$H': 2, '$I': 1, '$J': 0, '$1': 0, '$2': 1, '$3': 1, '$4': 2, '$5': 0, '$!': 3, '$@': 0, '$#': 0, '$$': 0}\n",
      "Sorted bigram frequencies:  [('EI', 6), ('5I', 5), ('B1', 4), ('C3', 4), ('EG', 4), ('E@', 4), ('FD', 4), ('13', 4), ('25', 4), ('4D', 4), ('5@', 4), ('!H', 4), ('!1', 4), ('!3', 4), ('@B', 4), ('A2', 3), ('A3', 3), ('BA', 3), ('CC', 3), ('DA', 3), ('D!', 3), ('E1', 3), ('FE', 3), ('F2', 3), ('F3', 3), ('F4', 3), ('GA', 3), ('GJ', 3), ('HG', 3), ('H@', 3), ('H#', 3), ('ID', 3), ('IE', 3), ('I$', 3), ('JE', 3), ('J2', 3), ('1A', 3), ('1E', 3), ('15', 3), ('1!', 3), ('2I', 3), ('3E', 3), ('3F', 3), ('3#', 3), ('4E', 3), ('45', 3), ('5C', 3), ('!D', 3), ('!E', 3), ('!@', 3), ('!$', 3), ('@!', 3), ('@@', 3), ('@#', 3), ('$!', 3), ('AF', 2), ('AG', 2), ('AH', 2), ('AJ', 2), ('A1', 2), ('A4', 2), ('A5', 2), ('A!', 2), ('A@', 2), ('BB', 2), ('BF', 2), ('BH', 2), ('B4', 2), ('B!', 2), ('B@', 2), ('B#', 2), ('CG', 2), ('C1', 2), ('C2', 2), ('C#', 2), ('DD', 2), ('DE', 2), ('DF', 2), ('DG', 2), ('DJ', 2), ('D1', 2), ('D3', 2), ('D4', 2), ('EA', 2), ('EB', 2), ('EE', 2), ('EF', 2), ('EJ', 2), ('E2', 2), ('E3', 2), ('F!', 2), ('F@', 2), ('GC', 2), ('GG', 2), ('G1', 2), ('G4', 2), ('G5', 2), ('HB', 2), ('HF', 2), ('H1', 2), ('H4', 2), ('IA', 2), ('IF', 2), ('IG', 2), ('II', 2), ('I2', 2), ('I!', 2), ('JA', 2), ('JD', 2), ('J4', 2), ('J5', 2), ('J!', 2), ('1C', 2), ('1F', 2), ('11', 2), ('1@', 2), ('2B', 2), ('2E', 2), ('2F', 2), ('2J', 2), ('22', 2), ('2!', 2), ('3H', 2), ('3J', 2), ('35', 2), ('3!', 2), ('3@', 2), ('3$', 2), ('4H', 2), ('4J', 2), ('41', 2), ('44', 2), ('4!', 2), ('4#', 2), ('5B', 2), ('5J', 2), ('52', 2), ('!A', 2), ('!B', 2), ('!F', 2), ('!J', 2), ('@D', 2), ('@F', 2), ('@G', 2), ('@I', 2), ('@2', 2), ('@4', 2), ('@$', 2), ('#D', 2), ('#E', 2), ('#4', 2), ('#5', 2), ('$A', 2), ('$B', 2), ('$E', 2), ('$H', 2), ('$4', 2), ('AA', 1), ('AC', 1), ('AD', 1), ('AE', 1), ('A$', 1), ('BD', 1), ('BE', 1), ('CD', 1), ('CE', 1), ('C!', 1), ('C@', 1), ('DB', 1), ('DC', 1), ('DH', 1), ('DI', 1), ('D5', 1), ('D@', 1), ('D$', 1), ('ED', 1), ('EH', 1), ('E!', 1), ('E#', 1), ('E$', 1), ('FB', 1), ('FF', 1), ('FH', 1), ('FJ', 1), ('F1', 1), ('F5', 1), ('F$', 1), ('GB', 1), ('GD', 1), ('GF', 1), ('GH', 1), ('GI', 1), ('G2', 1), ('G!', 1), ('G#', 1), ('G$', 1), ('HA', 1), ('HC', 1), ('HE', 1), ('HH', 1), ('H2', 1), ('H3', 1), ('H5', 1), ('H!', 1), ('IH', 1), ('I1', 1), ('I3', 1), ('I#', 1), ('JC', 1), ('JF', 1), ('JH', 1), ('JI', 1), ('J#', 1), ('J$', 1), ('1D', 1), ('1G', 1), ('1H', 1), ('1I', 1), ('1J', 1), ('14', 1), ('1#', 1), ('2A', 1), ('2G', 1), ('2H', 1), ('23', 1), ('24', 1), ('2@', 1), ('2$', 1), ('3B', 1), ('3C', 1), ('3D', 1), ('3G', 1), ('3I', 1), ('31', 1), ('32', 1), ('4A', 1), ('4B', 1), ('4C', 1), ('42', 1), ('5A', 1), ('5G', 1), ('5H', 1), ('51', 1), ('55', 1), ('5!', 1), ('!G', 1), ('!4', 1), ('@A', 1), ('@C', 1), ('@1', 1), ('@3', 1), ('#A', 1), ('#C', 1), ('#F', 1), ('#G', 1), ('#H', 1), ('#I', 1), ('#J', 1), ('#1', 1), ('#3', 1), ('#!', 1), ('#@', 1), ('##', 1), ('#$', 1), ('$C', 1), ('$G', 1), ('$I', 1), ('$2', 1), ('$3', 1), ('AB', 0), ('AI', 0), ('A#', 0), ('BC', 0), ('BG', 0), ('BI', 0), ('BJ', 0), ('B2', 0), ('B3', 0), ('B5', 0), ('B$', 0), ('CA', 0), ('CB', 0), ('CF', 0), ('CH', 0), ('CI', 0), ('CJ', 0), ('C4', 0), ('C5', 0), ('C$', 0), ('D2', 0), ('D#', 0), ('EC', 0), ('E4', 0), ('E5', 0), ('FA', 0), ('FC', 0), ('FG', 0), ('FI', 0), ('F#', 0), ('GE', 0), ('G3', 0), ('G@', 0), ('HD', 0), ('HI', 0), ('HJ', 0), ('H$', 0), ('IB', 0), ('IC', 0), ('IJ', 0), ('I4', 0), ('I5', 0), ('I@', 0), ('JB', 0), ('JG', 0), ('JJ', 0), ('J1', 0), ('J3', 0), ('J@', 0), ('1B', 0), ('12', 0), ('1$', 0), ('2C', 0), ('2D', 0), ('21', 0), ('2#', 0), ('3A', 0), ('33', 0), ('34', 0), ('4F', 0), ('4G', 0), ('4I', 0), ('43', 0), ('4@', 0), ('4$', 0), ('5D', 0), ('5E', 0), ('5F', 0), ('53', 0), ('54', 0), ('5#', 0), ('5$', 0), ('!C', 0), ('!I', 0), ('!2', 0), ('!5', 0), ('!!', 0), ('!#', 0), ('@E', 0), ('@H', 0), ('@J', 0), ('@5', 0), ('#B', 0), ('#2', 0), ('$D', 0), ('$F', 0), ('$J', 0), ('$1', 0), ('$5', 0), ('$@', 0), ('$#', 0), ('$$', 0)]\n"
     ]
    }
   ],
   "source": [
    "# Markov chain\n",
    "# to predict the next character in a sequence of characters using the N-1 previous characters\n",
    "# P(Wn | Wn-N+1, Wn-N+2, ..., Wn-1) = P(Wn | Wn-1)\n",
    "\n",
    "N = 2\n",
    "\n",
    "# calculate the probability of each letter given the previous letter\n",
    "\n",
    "bigram_frequencies = {}\n",
    "\n",
    "# Loop through the characters in the chars list\n",
    "\n",
    "for char in chars:\n",
    "    for char2 in chars:\n",
    "        bigram_frequencies[char + char2] = 0\n",
    "            \n",
    "\n",
    "print(\"Bigram length: \" + str(len(bigram_frequencies)) + \" frequencies: \", bigram_frequencies)\n",
    "\n",
    "# Loop through the random text\n",
    "for i in range(len(random_text) - 1):\n",
    "    # Get the current letter\n",
    "    current_letter = random_text[i]\n",
    "    # Get the next letter\n",
    "    next_letter = random_text[i + 1]\n",
    "    # Add 1 to the bigram frequency\n",
    "    bigram_frequencies[current_letter + next_letter] += 1\n",
    "\n",
    "print(\"Bigram frequencies: \", bigram_frequencies)\n",
    "sorted_bigram_frequencies = sorted(bigram_frequencies.items(), key=lambda x: x[1], reverse=True)\n",
    "print(\"Sorted bigram frequencies: \", sorted_bigram_frequencies)\n"
   ]
  },
  {
   "cell_type": "code",
   "execution_count": 144,
   "metadata": {},
   "outputs": [
    {
     "name": "stdout",
     "output_type": "stream",
     "text": [
      "Most likely letter:  3  probability:  4\n",
      "Sentence:  CEIDA25IDA25IDA2\n"
     ]
    }
   ],
   "source": [
    "# guess the next character\n",
    "# P(Wn | Wn-1) = P(Wn-1, Wn) / P(Wn-1)\n",
    "\n",
    "first_letter = 'C'\n",
    "\n",
    "def get_most_likely_letter(letter):\n",
    "    most_likely_letter_probability = 0\n",
    "    most_likely_letter = ''\n",
    "    \n",
    "    for char in chars:\n",
    "        # Get the bigram\n",
    "        bigram = letter + char\n",
    "        # Get the bigram frequency\n",
    "        bigram_frequency = bigram_frequencies[bigram]\n",
    "        if bigram_frequency > most_likely_letter_probability:\n",
    "            most_likely_letter_probability = bigram_frequency\n",
    "            most_likely_letter = char\n",
    "        \n",
    "    return most_likely_letter, most_likely_letter_probability\n",
    "\n",
    "\n",
    "most_likely_letter, most_likely_letter_probability = get_most_likely_letter(first_letter)\n",
    "print(\"Most likely letter: \", most_likely_letter, \" probability: \", most_likely_letter_probability)\n",
    "\n",
    "# create a random sentece with 15 letters using the Markov chain model and the most likely letter function above\n",
    "\n",
    "for i in range(15):\n",
    "    # Get the most likely letter\n",
    "    most_likely_letter, most_likely_letter_probability = get_most_likely_letter(most_likely_letter)\n",
    "    # Add the most likely letter to the sentence\n",
    "    first_letter += most_likely_letter\n",
    "\n",
    "print(\"Sentence: \", first_letter)"
   ]
  }
 ],
 "metadata": {
  "kernelspec": {
   "display_name": "Python 3",
   "language": "python",
   "name": "python3"
  },
  "language_info": {
   "codemirror_mode": {
    "name": "ipython",
    "version": 3
   },
   "file_extension": ".py",
   "mimetype": "text/x-python",
   "name": "python",
   "nbconvert_exporter": "python",
   "pygments_lexer": "ipython3",
   "version": "3.9.6"
  }
 },
 "nbformat": 4,
 "nbformat_minor": 2
}
