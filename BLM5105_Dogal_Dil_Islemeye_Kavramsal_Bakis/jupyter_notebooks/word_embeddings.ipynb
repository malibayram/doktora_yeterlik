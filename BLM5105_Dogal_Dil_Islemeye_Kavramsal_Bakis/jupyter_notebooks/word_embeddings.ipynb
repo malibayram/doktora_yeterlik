{
 "cells": [
  {
   "cell_type": "code",
   "execution_count": 8,
   "metadata": {},
   "outputs": [
    {
     "name": "stdout",
     "output_type": "stream",
     "text": [
      "one hot 1 encoding:  [[1, 0, 0, 0, 0, 0], [0, 1, 0, 0, 0, 0], [0, 0, 1, 0, 0, 0], [0, 0, 0, 1, 0, 0], [0, 0, 0, 0, 1, 0], [0, 0, 0, 0, 0, 1]]\n",
      "one hot 2 encoding:  [[1, 0, 0, 0, 0], [0, 1, 1, 0, 0], [0, 1, 1, 0, 0], [0, 0, 0, 1, 0], [0, 0, 0, 0, 1]]\n"
     ]
    }
   ],
   "source": [
    "doc1words = ['cat', 'window', 'defenestrate', 'dog', 'flower', 'banana']\n",
    "doc2words = ['cat', 'banana', 'banana', 'lamb', 'tree']\n",
    "\n",
    "# one hot encoding\n",
    "one_hot1 = []\n",
    "one_hot2 = []\n",
    "for word in doc1words:\n",
    "    one_hot1.append([1 if word == w else 0 for w in doc1words])\n",
    "\n",
    "for word in doc2words:\n",
    "    one_hot2.append([1 if word == w else 0 for w in doc2words])\n",
    "\n",
    "print(\"one hot 1 encoding: \", one_hot1)\n",
    "print(\"one hot 2 encoding: \", one_hot2)"
   ]
  },
  {
   "cell_type": "code",
   "execution_count": 10,
   "metadata": {},
   "outputs": [
    {
     "data": {
      "text/plain": [
       "[[1, 0, 0, 0, 0, 0],\n",
       " [0, 1, 0, 0, 0, 0],\n",
       " [0, 0, 1, 0, 0, 0],\n",
       " [0, 0, 0, 1, 0, 0],\n",
       " [0, 0, 0, 0, 1, 0],\n",
       " [0, 0, 0, 0, 0, 1],\n",
       " [1, 0, 0, 0, 0],\n",
       " [0, 1, 1, 0, 0],\n",
       " [0, 1, 1, 0, 0],\n",
       " [0, 0, 0, 1, 0],\n",
       " [0, 0, 0, 0, 1]]"
      ]
     },
     "execution_count": 10,
     "metadata": {},
     "output_type": "execute_result"
    }
   ],
   "source": [
    "# word2vec from scratch\n",
    "# Vektör Matrislerinde:\n",
    "#  Bütün kelimelerin vektörleri bulunur.\n",
    "#  Her kelime vektörü bir sütunda yer alır.  Kelime vektörünün boyutu d dir\n",
    "#  Sözlükte bulunan kelime sayısı m ise  Vektör Matrisi boyutu (d x m) dir\n",
    "\n",
    "vector_matrix = []\n",
    "for word in doc1words:\n",
    "    vector_matrix.append([1 if word == w else 0 for w in doc1words])\n",
    "\n",
    "for word in doc2words:\n",
    "    vector_matrix.append([1 if word == w else 0 for w in doc2words])\n",
    "\n",
    "vector_matrix"
   ]
  },
  {
   "cell_type": "code",
   "execution_count": 11,
   "metadata": {},
   "outputs": [
    {
     "data": {
      "text/plain": [
       "[[1, 0, 0, 0, 0, 0],\n",
       " [0, 1, 0, 0, 0, 0],\n",
       " [0, 0, 1, 0, 0, 0],\n",
       " [0, 0, 0, 1, 0, 0],\n",
       " [0, 0, 0, 0, 1, 0],\n",
       " [0, 0, 0, 0, 0, 1],\n",
       " [1, 0, 0, 0, 0],\n",
       " [0, 1, 1, 0, 0],\n",
       " [0, 1, 1, 0, 0],\n",
       " [0, 0, 0, 1, 0],\n",
       " [0, 0, 0, 0, 1]]"
      ]
     },
     "execution_count": 11,
     "metadata": {},
     "output_type": "execute_result"
    }
   ],
   "source": [
    "#  Birer adet girdi, çıktı ve gizli katmandan oluşan bir yapay sinir ağıdır.\n",
    "#  Kelime vektörlerini oluştururken pencere genişliği, embedding boyutu gibi hiper parametreleri kullanır.\n",
    "#  Pencere genişliği hedef kelimenin sağında ve solunda kaç kelime olması gerektiğini belirtir.\n",
    "#  Embedding boyutu ise her bir kelimenin kaç boyutlu vektör olarak tanımlanacağını belirtir.\n",
    "#  Embedding boyutu aynı zamanda gizli katmandaki nöron sayısına karşılık gelir.\n",
    "#  İki kelimenin birbirine olan benzerliğini veya iki cümlenin birbirine olan yakınlığını bulmak, özetlemede yararlanmak gibi birçok kullanım alanı vardır.\n",
    "\n",
    "input_layer = []\n",
    "for word in doc1words:\n",
    "    input_layer.append([1 if word == w else 0 for w in doc1words])\n",
    "\n",
    "for word in doc2words:\n",
    "    input_layer.append([1 if word == w else 0 for w in doc2words])\n",
    "\n",
    "input_layer"
   ]
  },
  {
   "cell_type": "code",
   "execution_count": 12,
   "metadata": {},
   "outputs": [
    {
     "name": "stdout",
     "output_type": "stream",
     "text": [
      "8\n"
     ]
    }
   ],
   "source": [
    "sentence = \"The wide road shimmered in the hot sun\"\n",
    "tokens = list(sentence.lower().split())\n",
    "print(len(tokens))"
   ]
  },
  {
   "cell_type": "code",
   "execution_count": 13,
   "metadata": {},
   "outputs": [
    {
     "name": "stdout",
     "output_type": "stream",
     "text": [
      "{'<pad>': 0, 'the': 1, 'wide': 2, 'road': 3, 'shimmered': 4, 'in': 5, 'hot': 6, 'sun': 7}\n"
     ]
    }
   ],
   "source": [
    "vocab, index = {}, 1  # start indexing from 1\n",
    "vocab['<pad>'] = 0  # add a padding token\n",
    "for token in tokens:\n",
    "  if token not in vocab:\n",
    "    vocab[token] = index\n",
    "    index += 1\n",
    "vocab_size = len(vocab)\n",
    "print(vocab)"
   ]
  },
  {
   "cell_type": "code",
   "execution_count": 14,
   "metadata": {},
   "outputs": [
    {
     "name": "stdout",
     "output_type": "stream",
     "text": [
      "[1, 2, 3, 4, 5, 1, 6, 7]\n"
     ]
    }
   ],
   "source": [
    "example_sequence = [vocab[word] for word in tokens]\n",
    "print(example_sequence)"
   ]
  },
  {
   "cell_type": "code",
   "execution_count": 41,
   "metadata": {},
   "outputs": [
    {
     "name": "stdout",
     "output_type": "stream",
     "text": [
      "{0: '<pad>', 1: 'the', 2: 'wide', 3: 'road', 4: 'shimmered', 5: 'in', 6: 'hot', 7: 'sun'}\n"
     ]
    }
   ],
   "source": [
    "inverse_vocab = {index: token for token, index in vocab.items()}\n",
    "print(inverse_vocab)"
   ]
  },
  {
   "cell_type": "code",
   "execution_count": 42,
   "metadata": {},
   "outputs": [
    {
     "name": "stdout",
     "output_type": "stream",
     "text": [
      "(the, wide)\n",
      "(the, road)\n",
      "(wide, the)\n",
      "(wide, road)\n",
      "(wide, shimmered)\n",
      "(road, the)\n",
      "(road, wide)\n",
      "(road, shimmered)\n",
      "(road, in)\n",
      "(shimmered, wide)\n",
      "(shimmered, road)\n",
      "(shimmered, in)\n",
      "(shimmered, the)\n",
      "(in, road)\n",
      "(in, shimmered)\n",
      "(in, the)\n",
      "(in, hot)\n",
      "(the, shimmered)\n",
      "(the, in)\n",
      "(the, hot)\n",
      "(the, sun)\n",
      "(hot, in)\n",
      "(hot, the)\n",
      "(hot, sun)\n",
      "(sun, the)\n",
      "(sun, hot)\n"
     ]
    },
    {
     "ename": "ValueError",
     "evalue": "could not broadcast input array from shape (2,) into shape (3,)",
     "output_type": "error",
     "traceback": [
      "\u001b[0;31m---------------------------------------------------------------------------\u001b[0m",
      "\u001b[0;31mValueError\u001b[0m                                Traceback (most recent call last)",
      "\u001b[1;32m/Users/mab/Desktop/yeterlik/BLM5105_Dogal_Dil_Islemeye_Kavramsal_Bakis/jupyter_notebooks/word_embeddings.ipynb Cell 8\u001b[0m line \u001b[0;36m3\n\u001b[1;32m     <a href='vscode-notebook-cell:/Users/mab/Desktop/yeterlik/BLM5105_Dogal_Dil_Islemeye_Kavramsal_Bakis/jupyter_notebooks/word_embeddings.ipynb#X10sZmlsZQ%3D%3D?line=31'>32</a>\u001b[0m     \u001b[39mreturn\u001b[39;00m batch\n\u001b[1;32m     <a href='vscode-notebook-cell:/Users/mab/Desktop/yeterlik/BLM5105_Dogal_Dil_Islemeye_Kavramsal_Bakis/jupyter_notebooks/word_embeddings.ipynb#X10sZmlsZQ%3D%3D?line=33'>34</a>\u001b[0m \u001b[39m# view a few sample generated batches\u001b[39;00m\n\u001b[0;32m---> <a href='vscode-notebook-cell:/Users/mab/Desktop/yeterlik/BLM5105_Dogal_Dil_Islemeye_Kavramsal_Bakis/jupyter_notebooks/word_embeddings.ipynb#X10sZmlsZQ%3D%3D?line=34'>35</a>\u001b[0m batch \u001b[39m=\u001b[39m generate_batch(couples, n_positive\u001b[39m=\u001b[39;49m\u001b[39m2\u001b[39;49m, negative_ratio\u001b[39m=\u001b[39;49m\u001b[39m2\u001b[39;49m)\n\u001b[1;32m     <a href='vscode-notebook-cell:/Users/mab/Desktop/yeterlik/BLM5105_Dogal_Dil_Islemeye_Kavramsal_Bakis/jupyter_notebooks/word_embeddings.ipynb#X10sZmlsZQ%3D%3D?line=35'>36</a>\u001b[0m \u001b[39mprint\u001b[39m(batch)\n",
      "\u001b[1;32m/Users/mab/Desktop/yeterlik/BLM5105_Dogal_Dil_Islemeye_Kavramsal_Bakis/jupyter_notebooks/word_embeddings.ipynb Cell 8\u001b[0m line \u001b[0;36m2\n\u001b[1;32m     <a href='vscode-notebook-cell:/Users/mab/Desktop/yeterlik/BLM5105_Dogal_Dil_Islemeye_Kavramsal_Bakis/jupyter_notebooks/word_embeddings.ipynb#X10sZmlsZQ%3D%3D?line=25'>26</a>\u001b[0m \u001b[39m# first column is for center words, second column is for positive context words, third column is for negative samples\u001b[39;00m\n\u001b[1;32m     <a href='vscode-notebook-cell:/Users/mab/Desktop/yeterlik/BLM5105_Dogal_Dil_Islemeye_Kavramsal_Bakis/jupyter_notebooks/word_embeddings.ipynb#X10sZmlsZQ%3D%3D?line=26'>27</a>\u001b[0m \u001b[39mfor\u001b[39;00m i, couple \u001b[39min\u001b[39;00m \u001b[39menumerate\u001b[39m(couples):\n\u001b[0;32m---> <a href='vscode-notebook-cell:/Users/mab/Desktop/yeterlik/BLM5105_Dogal_Dil_Islemeye_Kavramsal_Bakis/jupyter_notebooks/word_embeddings.ipynb#X10sZmlsZQ%3D%3D?line=27'>28</a>\u001b[0m     batch[i, :] \u001b[39m=\u001b[39m couple[:]\n\u001b[1;32m     <a href='vscode-notebook-cell:/Users/mab/Desktop/yeterlik/BLM5105_Dogal_Dil_Islemeye_Kavramsal_Bakis/jupyter_notebooks/word_embeddings.ipynb#X10sZmlsZQ%3D%3D?line=28'>29</a>\u001b[0m \u001b[39m# generate negative samples\u001b[39;00m\n\u001b[1;32m     <a href='vscode-notebook-cell:/Users/mab/Desktop/yeterlik/BLM5105_Dogal_Dil_Islemeye_Kavramsal_Bakis/jupyter_notebooks/word_embeddings.ipynb#X10sZmlsZQ%3D%3D?line=29'>30</a>\u001b[0m negative_samples \u001b[39m=\u001b[39m np\u001b[39m.\u001b[39mrandom\u001b[39m.\u001b[39mchoice(\u001b[39mlist\u001b[39m(vocab\u001b[39m.\u001b[39mvalues()), size\u001b[39m=\u001b[39m(batch_size, \u001b[39m1\u001b[39m))\n",
      "\u001b[0;31mValueError\u001b[0m: could not broadcast input array from shape (2,) into shape (3,)"
     ]
    }
   ],
   "source": [
    "# implement skip-gram without using any machine learning library\n",
    "\n",
    "# define embedding size and context window size\n",
    "embedding_size = 5\n",
    "window_size = 2\n",
    "\n",
    "# generate positive skip-gram pairs\n",
    "couples = []\n",
    "for i, center_word in enumerate(example_sequence):\n",
    "    for j in range(i - window_size, i + window_size + 1):\n",
    "        if j < 0 or j >= len(example_sequence) or i == j:\n",
    "            continue\n",
    "        couples.append([center_word, example_sequence[j]])\n",
    "\n",
    "# view sample positive skip-gram pairs\n",
    "for couple in couples:\n",
    "    print(f\"({inverse_vocab[couple[0]]}, {inverse_vocab[couple[1]]})\")\n",
    "\n",
    "# generate negative skip-gram pairs\n",
    "import numpy as np\n",
    "def generate_batch(couples, n_positive=50, negative_ratio=1.0):\n",
    "    batch_size = n_positive * (1 + negative_ratio)\n",
    "    batch = np.zeros((batch_size, 3))\n",
    "    batch = batch.astype(int)\n",
    "\n",
    "    # first column is for center words, second column is for positive context words, third column is for negative samples\n",
    "    for i, couple in enumerate(couples):\n",
    "        batch[i, :] = couple[:]\n",
    "    # generate negative samples\n",
    "    negative_samples = np.random.choice(list(vocab.values()), size=(batch_size, 1))\n",
    "    batch[:, 2:] = negative_samples[:]\n",
    "    return batch\n",
    "\n",
    "# view a few sample generated batches\n",
    "batch = generate_batch(couples, n_positive=2, negative_ratio=2)\n",
    "print(batch)"
   ]
  },
  {
   "cell_type": "code",
   "execution_count": 46,
   "metadata": {},
   "outputs": [
    {
     "data": {
      "text/plain": [
       "26"
      ]
     },
     "execution_count": 46,
     "metadata": {},
     "output_type": "execute_result"
    }
   ],
   "source": [
    "import tensorflow as tf\n",
    "window_size = 2\n",
    "positive_skip_grams, _ = tf.keras.preprocessing.sequence.skipgrams(\n",
    "      example_sequence,\n",
    "      vocabulary_size=vocab_size,\n",
    "      window_size=window_size,\n",
    "      negative_samples=0)\n",
    "len(positive_skip_grams)"
   ]
  },
  {
   "cell_type": "code",
   "execution_count": 47,
   "metadata": {},
   "outputs": [
    {
     "name": "stdout",
     "output_type": "stream",
     "text": [
      "(7, 1): (sun, the)\n",
      "(6, 7): (hot, sun)\n",
      "(7, 6): (sun, hot)\n",
      "(5, 4): (in, shimmered)\n",
      "(5, 3): (in, road)\n",
      "(5, 1): (in, the)\n",
      "(1, 7): (the, sun)\n",
      "(4, 2): (shimmered, wide)\n",
      "(4, 3): (shimmered, road)\n",
      "(2, 1): (wide, the)\n",
      "(6, 5): (hot, in)\n",
      "(1, 4): (the, shimmered)\n",
      "(1, 6): (the, hot)\n",
      "(1, 3): (the, road)\n",
      "(3, 4): (road, shimmered)\n",
      "(3, 1): (road, the)\n",
      "(3, 2): (road, wide)\n",
      "(5, 6): (in, hot)\n",
      "(4, 1): (shimmered, the)\n",
      "(1, 5): (the, in)\n",
      "(2, 4): (wide, shimmered)\n",
      "(2, 3): (wide, road)\n",
      "(3, 5): (road, in)\n",
      "(6, 1): (hot, the)\n",
      "(1, 2): (the, wide)\n",
      "(4, 5): (shimmered, in)\n"
     ]
    }
   ],
   "source": [
    "for target, context in positive_skip_grams:\n",
    "  print(f\"({target}, {context}): ({inverse_vocab[target]}, {inverse_vocab[context]})\")"
   ]
  },
  {
   "cell_type": "code",
   "execution_count": 48,
   "metadata": {},
   "outputs": [
    {
     "name": "stdout",
     "output_type": "stream",
     "text": [
      "tf.Tensor([2 1 4 3], shape=(4,), dtype=int64)\n",
      "['wide', 'the', 'shimmered', 'road']\n"
     ]
    }
   ],
   "source": [
    "SEED = 42\n",
    "# Get target and context words for one positive skip-gram.\n",
    "target_word, context_word = positive_skip_grams[0]\n",
    "\n",
    "# Set the number of negative samples per positive context.\n",
    "num_ns = 4\n",
    "\n",
    "context_class = tf.reshape(tf.constant(context_word, dtype=\"int64\"), (1, 1))\n",
    "negative_sampling_candidates, _, _ = tf.random.log_uniform_candidate_sampler(\n",
    "    true_classes=context_class,  # class that should be sampled as 'positive'\n",
    "    num_true=1,  # each positive skip-gram has 1 positive context class\n",
    "    num_sampled=num_ns,  # number of negative context words to sample\n",
    "    unique=True,  # all the negative samples should be unique\n",
    "    range_max=vocab_size,  # pick index of the samples from [0, vocab_size]\n",
    "    seed=SEED,  # seed for reproducibility\n",
    "    name=\"negative_sampling\"  # name of this operation\n",
    ")\n",
    "print(negative_sampling_candidates)\n",
    "print([inverse_vocab[index.numpy()] for index in negative_sampling_candidates])"
   ]
  },
  {
   "cell_type": "code",
   "execution_count": 49,
   "metadata": {},
   "outputs": [
    {
     "name": "stdout",
     "output_type": "stream",
     "text": [
      "[0.00315225 0.00315225 0.00547597 0.00741556 0.00912817 0.01068435\n",
      " 0.01212381 0.01347162 0.01474487 0.0159558 ]\n"
     ]
    }
   ],
   "source": [
    "sampling_table = tf.keras.preprocessing.sequence.make_sampling_table(size=10)\n",
    "print(sampling_table)"
   ]
  }
 ],
 "metadata": {
  "kernelspec": {
   "display_name": "Python 3",
   "language": "python",
   "name": "python3"
  },
  "language_info": {
   "codemirror_mode": {
    "name": "ipython",
    "version": 3
   },
   "file_extension": ".py",
   "mimetype": "text/x-python",
   "name": "python",
   "nbconvert_exporter": "python",
   "pygments_lexer": "ipython3",
   "version": "3.9.6"
  }
 },
 "nbformat": 4,
 "nbformat_minor": 2
}
