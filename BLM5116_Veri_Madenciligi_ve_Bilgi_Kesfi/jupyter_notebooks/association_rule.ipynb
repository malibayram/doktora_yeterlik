{
 "cells": [
  {
   "cell_type": "markdown",
   "metadata": {},
   "source": [
    "## Association Rule Mining\n",
    "\n",
    "Items Table\n",
    "\n",
    "| TID | Items |\n",
    "| --- | ----- |\n",
    "| 1 | {Bread, Milk} |\n",
    "| 2 | {Bread, Diapers, Beer, Egg} |\n",
    "| 3 | {Milk, Diapers, Beer, Cola} |\n",
    "| 4 | {Bread, Milk, Diapers, Beer} |\n",
    "| 5 | {Bread, Milk, Diapers, Cola} |\n",
    "\n",
    "### Support\n",
    "\n",
    "Support is an indication of how frequently the itemset appears in the dataset. In the above example, the support of {Milk} is 3/5 = 60%.\n",
    "\n",
    "### Confidence\n",
    "\n",
    "Confidence is an indication of how often the rule has been found to be true. In the above example, the confidence of {Milk} -> {Diapers} is 2/3 = 66.7%.\n",
    "\n",
    "### Lift\n",
    "\n",
    "Lift is the ratio of the observed support to that expected if the two rules were independent. The expected support is the product of the itemset support values. In the above example, the lift of {Milk} -> {Diapers} is 60%/75% = 80%.\n",
    "\n",
    "### Conviction\n",
    "\n",
    "Conviction is the ratio of the expected frequency that X occurs without Y if they were dependent divided by the observed frequency of incorrect predictions. In the above example, the conviction of {Milk} -> {Diapers} is 1/(1-75%) = 4.\n",
    "\n",
    "### Leverage\n",
    "\n",
    "Leverage computes the difference between the observed frequency of X and Y appearing together and the frequency that would be expected if X and Y were independent. In the above example, the leverage of {Milk} -> {Diapers} is 60% - (75% * 75%) = 11.25%.\n",
    "\n",
    "### Lift Ratio\n",
    "\n",
    "Lift Ratio is the ratio of the observed support to that expected if the two rules were independent. The expected support is the product of the itemset support values. In the above example, the lift ratio of {Milk} -> {Diapers} is 60%/75% = 80%.\n",
    "\n",
    "### The Apriori Algorithm\n",
    "\n",
    "\n",
    "The Apriori algorithm is a classical algorithm in data mining. It is used for mining frequent itemsets and relevant association rules. It is devised to operate on a database containing a lot of transactions, for instance, items brought by customers in a store. The Apriori algorithm needs a minimum support level as an input and a data set. The algorithm processes the dataset multiple times to discover frequently occurring itemsets. The frequent itemsets determined by Apriori can be used to determine association rules which highlight general trends in the dataset. The Apriori algorithm reduces the number of itemsets that are to be examined during the search process. The algorithm uses a \"bottom up\" approach, where frequent subsets are extended one item at a time (a step known as candidate generation), and groups of candidates are tested against the data. The algorithm terminates when no further successful extensions are found."
   ]
  },
  {
   "cell_type": "code",
   "execution_count": 36,
   "metadata": {},
   "outputs": [
    {
     "name": "stdout",
     "output_type": "stream",
     "text": [
      "item_count:  {'A': 2, 'C': 3, 'D': 1, 'B': 3, 'E': 3}\n",
      "L1:  {'A': 2, 'C': 3, 'B': 3, 'E': 3}\n"
     ]
    }
   ],
   "source": [
    "# The Apriori algorithm is used to find frequent itemsets in a dataset.\n",
    "\n",
    "data = [\n",
    "    ['A', 'C', 'D'],\n",
    "    ['B', 'C', 'E'],\n",
    "    ['A', 'B', 'C', 'E'],\n",
    "    ['B', 'E']\n",
    "]\n",
    "\n",
    "min_support = 2\n",
    "\n",
    "# first scan\n",
    "# count the number of occurrences of each item\n",
    "item_count = {}\n",
    "for transaction in data:\n",
    "    for item in transaction:\n",
    "        if item in item_count:\n",
    "            item_count[item] += 1\n",
    "        else:\n",
    "            item_count[item] = 1\n",
    "\n",
    "print(\"item_count: \", item_count)\n",
    "# remove items that do not meet the minimum support\n",
    "l1 = {k: v for k, v in item_count.items() if v >= min_support}\n",
    "print(\"L1: \", l1)"
   ]
  },
  {
   "cell_type": "code",
   "execution_count": 37,
   "metadata": {},
   "outputs": [
    {
     "name": "stdout",
     "output_type": "stream",
     "text": [
      "pairs:  [['A', 'C'], ['A', 'B'], ['A', 'E'], ['C', 'B'], ['C', 'E'], ['B', 'E']]\n",
      "pair_count:  {('A', 'C'): 2, ('C', 'B'): 2, ('C', 'E'): 2, ('B', 'E'): 3, ('A', 'B'): 1, ('A', 'E'): 1}\n",
      "L2:  {('A', 'C'): 2, ('C', 'B'): 2, ('C', 'E'): 2, ('B', 'E'): 3}\n"
     ]
    }
   ],
   "source": [
    "# second scan\n",
    "# count the number of occurrences of each pair\n",
    "\n",
    "# generate all possible pairs\n",
    "pairs = []\n",
    "for i in range(len(l1)):\n",
    "    for j in range(i + 1, len(l1)):\n",
    "        pairs.append([list(l1.keys())[i], list(l1.keys())[j]])\n",
    "print(\"pairs: \", pairs)\n",
    "\n",
    "# count the number of occurrences of each pair\n",
    "pair_count = {}\n",
    "for transaction in data:\n",
    "    for pair in pairs:\n",
    "        if pair[0] in transaction and pair[1] in transaction:\n",
    "            if tuple(pair) in pair_count:\n",
    "                pair_count[tuple(pair)] += 1\n",
    "            else:\n",
    "                pair_count[tuple(pair)] = 1\n",
    "print(\"pair_count: \", pair_count)\n",
    "\n",
    "# remove pairs that do not meet the minimum support\n",
    "l2 = {k: v for k, v in pair_count.items() if v >= min_support}\n",
    "print(\"L2: \", l2)"
   ]
  },
  {
   "cell_type": "code",
   "execution_count": 46,
   "metadata": {},
   "outputs": [
    {
     "name": "stdout",
     "output_type": "stream",
     "text": [
      "triples:  [('B', 'C', 'E'), ('A', 'C', 'E'), ('A', 'B', 'E'), ('A', 'B', 'C')]\n",
      "triple_count:  {('B', 'C', 'E'): 2, ('A', 'C', 'E'): 1, ('A', 'B', 'E'): 1, ('A', 'B', 'C'): 1}\n"
     ]
    }
   ],
   "source": [
    "# third scan\n",
    "# count the number of occurrences of each triple\n",
    "\n",
    "# generate all possible triples from data transactions\n",
    "triples = []\n",
    "l2_flat = [item for sublist in l2.keys() for item in sublist]\n",
    "for transaction in data:\n",
    "    if len(transaction) == 3:\n",
    "        first = transaction[0]\n",
    "        second = transaction[1]\n",
    "        third = transaction[2]\n",
    "        if first in l2_flat and second in l2_flat and third in l2_flat:\n",
    "            triples.append([first, second, third])\n",
    "    elif len(transaction) > 3:\n",
    "        for i in range(len(transaction)):\n",
    "            for j in range(i + 1, len(transaction)):\n",
    "                for k in range(j + 1, len(transaction)):\n",
    "                    first = transaction[i]\n",
    "                    second = transaction[j]\n",
    "                    third = transaction[k]\n",
    "                    if first in l2_flat and second in l2_flat and third in l2_flat:                        \n",
    "                        triples.append([first, second, third])\n",
    "triples = list(set(map(tuple, triples)))\n",
    "print(\"triples: \", triples)\n",
    "\n",
    "# count the number of occurrences of each triple\n",
    "triple_count = {}\n",
    "for triple in triples:\n",
    "    for transaction in data:\n",
    "        if triple[0] in transaction and triple[1] in transaction and triple[2] in transaction:\n",
    "            if tuple(triple) in triple_count:\n",
    "                triple_count[tuple(triple)] += 1\n",
    "            else:\n",
    "                triple_count[tuple(triple)] = 1\n",
    "        if tuple(triple) not in triple_count:\n",
    "            triple_count[tuple(triple)] = 0\n",
    "print(\"triple_count: \", triple_count)"
   ]
  }
 ],
 "metadata": {
  "kernelspec": {
   "display_name": "Python 3",
   "language": "python",
   "name": "python3"
  },
  "language_info": {
   "codemirror_mode": {
    "name": "ipython",
    "version": 3
   },
   "file_extension": ".py",
   "mimetype": "text/x-python",
   "name": "python",
   "nbconvert_exporter": "python",
   "pygments_lexer": "ipython3",
   "version": "3.9.6"
  }
 },
 "nbformat": 4,
 "nbformat_minor": 2
}
